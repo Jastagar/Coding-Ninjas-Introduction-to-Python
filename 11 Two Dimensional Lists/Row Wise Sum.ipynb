from sys import stdin

def rowWiseSum(mat, nRows, mCols):
    for a in range(nRows):
        z=0
        for i in range(mCols):
            z=z+mat[a][i]
        print(z, end=' ')
    

#Taking Input Using Fast I/O
def take2DInput() :
    li = stdin.readline().rstrip().split(" ")
    nRows = int(li[0])
    mCols = int(li[1])
    
    if nRows == 0 :
        return list(), 0, 0
    
    mat = [list(map(int, input().strip().split(" "))) for row in range(nRows)]
    return mat, nRows, mCols


#main
t = int(stdin.readline().rstrip())

while t > 0 :

    mat, nRows, mCols = take2DInput()
    rowWiseSum(mat, nRows, mCols)
    print()
    t -= 1
